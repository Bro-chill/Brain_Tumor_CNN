{
 "cells": [
  {
   "cell_type": "code",
   "execution_count": 2,
   "id": "412c1a8f-1e49-4fd8-9fc1-7d6699f267b5",
   "metadata": {},
   "outputs": [],
   "source": [
    "#1 Analyze Data\n",
    "#2 Split(train & validation) data\n",
    "#3 Transform(normalization & augmentation) data\n",
    "#4 DataLoader (train & validation)\n",
    "#5 Create device selection function\n",
    "#6 Create General function\n",
    "#7 Create ResNet9 function\n",
    "#8 Create Training function\n",
    "#9 Wrap Loaded Data with prefered device(GPU/CPU)\n",
    "#10 Evaluate loss & accuracy before train model\n",
    "#11 Train model\n",
    "#12 Evaluate loss & accuracy after train model\n",
    "#13 Create single input function\n",
    "#14 Save trained model"
   ]
  },
  {
   "cell_type": "code",
   "execution_count": 4,
   "id": "227f120e-2402-4670-aa56-061eaeea03ec",
   "metadata": {},
   "outputs": [],
   "source": [
    "import os\n",
    "import numpy as np\n",
    "\n",
    "import matplotlib\n",
    "import matplotlib.pyplot as plt\n",
    "\n",
    "import torch\n",
    "import torchvision\n",
    "import torch.nn as nn\n",
    "import torch.nn.functional as F\n",
    "import torchvision.datasets as datasets\n",
    "import torchvision.transforms as tt\n",
    "\n",
    "from torchvision import datasets, transforms\n",
    "from torchvision.transforms import ToTensor\n",
    "from torchvision.datasets.utils import download_url\n",
    "from torchvision.datasets import ImageFolder\n",
    "from torch.utils.data import DataLoader, Subset, random_split, Dataset\n",
    "from torchvision.utils import make_grid\n",
    "\n",
    "matplotlib.rcParams['figure.facecolor'] = '#ffffff'"
   ]
  },
  {
   "cell_type": "code",
   "execution_count": 6,
   "id": "3d0c1e9c-375a-43af-8db6-c46983b85024",
   "metadata": {},
   "outputs": [
    {
     "name": "stdout",
     "output_type": "stream",
     "text": [
      "['Testing', 'Training']\n"
     ]
    }
   ],
   "source": [
    "#1 Analyze Data\n",
    "data_dir = './data'\n",
    "\n",
    "print(os.listdir(data_dir))"
   ]
  },
  {
   "cell_type": "code",
   "execution_count": 8,
   "id": "53d0e47c-d698-4c27-9d80-a2b1086d75ac",
   "metadata": {},
   "outputs": [
    {
     "name": "stdout",
     "output_type": "stream",
     "text": [
      "torch.Size([3, 512, 512]) 0\n"
     ]
    }
   ],
   "source": [
    "dataset = ImageFolder(data_dir + '/Training', transform = ToTensor())\n",
    "img, label = dataset[0]\n",
    "\n",
    "print(img.shape,label)"
   ]
  },
  {
   "cell_type": "code",
   "execution_count": 10,
   "id": "05e94331-06b4-40e7-8437-c6c7f6b96f53",
   "metadata": {},
   "outputs": [
    {
     "name": "stdout",
     "output_type": "stream",
     "text": [
      "Minimum image shape: torch.Size([168, 300])\n",
      "Maximum image shape: torch.Size([1446, 1375])\n"
     ]
    }
   ],
   "source": [
    "# Initialize variables to store the min and max shapes\n",
    "min_shape = None\n",
    "max_shape = None\n",
    "\n",
    "# Iterate through the dataset\n",
    "for img, _ in dataset:\n",
    "    # Get the shape of the image (which is a tensor after the ToTensor transform)\n",
    "    shape = img.shape  # (C, H, W), where C is channels, H is height, W is width\n",
    "    \n",
    "    # Update the min and max shapes\n",
    "    if min_shape is None or shape[1:] < min_shape[1:]:\n",
    "        min_shape = shape\n",
    "    if max_shape is None or shape[1:] > max_shape[1:]:\n",
    "        max_shape = shape\n",
    "\n",
    "print(f\"Minimum image shape: {min_shape[1:]}\")  # Excluding channels (C)\n",
    "print(f\"Maximum image shape: {max_shape[1:]}\")"
   ]
  },
  {
   "cell_type": "code",
   "execution_count": 12,
   "id": "19935d11-2ba0-4b87-9166-a5759da154a4",
   "metadata": {},
   "outputs": [
    {
     "name": "stdout",
     "output_type": "stream",
     "text": [
      "['glioma', 'meningioma', 'notumor', 'pituitary']\n",
      "['glioma', 'meningioma', 'notumor', 'pituitary']\n"
     ]
    }
   ],
   "source": [
    "# Group of probability\n",
    "print(os.listdir(data_dir + '/Training'))\n",
    "print(os.listdir(data_dir + '/Testing'))"
   ]
  },
  {
   "cell_type": "code",
   "execution_count": 14,
   "id": "eafa1405-ea76-4e48-be86-4c555113b9fb",
   "metadata": {},
   "outputs": [
    {
     "name": "stdout",
     "output_type": "stream",
     "text": [
      "No. of train glioma example: 1321\n",
      "No. of train meningioma example: 1339\n",
      "No. of train no tumor example: 1595\n",
      "No. of train pituitary example: 1457\n",
      "No. of test glioma example: 300\n",
      "No. of test meningioma example: 306\n",
      "No. of test no tumor example: 405\n",
      "No. of test petuitary example: 300\n",
      "['Tr-glTr_0000.jpg', 'Tr-glTr_0001.jpg', 'Tr-glTr_0002.jpg']\n",
      "['Te-glTr_0000.jpg', 'Te-glTr_0001.jpg', 'Te-glTr_0002.jpg']\n"
     ]
    }
   ],
   "source": [
    "# Length and file type of sample\n",
    "glioma_train_file = os.listdir(data_dir + '/Training/glioma')\n",
    "meningioma_train_file = os.listdir(data_dir + '/Training/meningioma')\n",
    "notumor_train_file = os.listdir(data_dir + '/Training/notumor')\n",
    "pituitary_train_file = os.listdir(data_dir + '/Training/pituitary')\n",
    "\n",
    "glioma_test_file = os.listdir(data_dir + '/Testing/glioma')\n",
    "meningioma_test_file = os.listdir(data_dir + '/Testing/meningioma')\n",
    "notumor_test_file = os.listdir(data_dir + '/Testing/notumor')\n",
    "pituitary_test_file = os.listdir(data_dir + '/Testing/pituitary')\n",
    "\n",
    "print('No. of train glioma example:', len(glioma_train_file))\n",
    "print('No. of train meningioma example:', len(meningioma_train_file))\n",
    "print('No. of train no tumor example:', len(notumor_train_file))\n",
    "print('No. of train pituitary example:', len(pituitary_train_file))\n",
    "\n",
    "print('No. of test glioma example:', len(glioma_test_file))\n",
    "print('No. of test meningioma example:', len(meningioma_test_file))\n",
    "print('No. of test no tumor example:', len(notumor_test_file))\n",
    "print('No. of test petuitary example:', len(pituitary_test_file))\n",
    "\n",
    "print(glioma_train_file[:3])\n",
    "print(glioma_test_file[:3])"
   ]
  },
  {
   "cell_type": "code",
   "execution_count": 16,
   "id": "3fa6a1b7-0513-4027-b8bb-bcad628e70f5",
   "metadata": {},
   "outputs": [
    {
     "name": "stdout",
     "output_type": "stream",
     "text": [
      "Total train data: 5712\n",
      "Total test data: 1311\n"
     ]
    }
   ],
   "source": [
    "print('Total train data:', 1321+1339+1595+1457)\n",
    "print('Total test data:', 300+306+405+300)"
   ]
  },
  {
   "cell_type": "code",
   "execution_count": 18,
   "id": "7e7b0691-7288-4482-a838-a8d752e96820",
   "metadata": {},
   "outputs": [
    {
     "name": "stdout",
     "output_type": "stream",
     "text": [
      "mean: tensor([0.1856, 0.1856, 0.1856])\n",
      "std: tensor([0.1744, 0.1744, 0.1744])\n"
     ]
    }
   ],
   "source": [
    "#Dataset mean & std (For data transformation)\n",
    "import torchvision.datasets as datasets\n",
    "data_transforms = tt.Compose([\n",
    "    tt.Resize((32,32)),\n",
    "    tt.ToTensor()\n",
    "])\n",
    "\n",
    "train_dataset = ImageFolder(data_dir + '/Training',\n",
    "                            transform = data_transforms)\n",
    "train_loader = DataLoader(dataset = train_dataset,\n",
    "                         batch_size = 16,\n",
    "                         shuffle = True)\n",
    "def get_mean_std(loader):\n",
    "    channels_sum, channels_squared_sum, num_batches = 0,0,0\n",
    "\n",
    "    for data, _ in loader:\n",
    "        channels_sum += torch.mean(data, dim=[0,2,3])\n",
    "        channels_squared_sum += torch.mean(data**2, dim=[0,2,3])\n",
    "        num_batches += 1\n",
    "\n",
    "    mean = channels_sum/num_batches\n",
    "    std = (channels_squared_sum/num_batches - mean**2)**0.5\n",
    "    return mean,std\n",
    "\n",
    "mean, std = get_mean_std(train_loader)\n",
    "print('mean:',mean)\n",
    "print('std:',std)"
   ]
  },
  {
   "cell_type": "code",
   "execution_count": 22,
   "id": "2f8594e1-402f-4e34-acbc-ba5db177ef53",
   "metadata": {},
   "outputs": [
    {
     "data": {
      "text/plain": [
       "(5141, 571, 1311)"
      ]
     },
     "execution_count": 22,
     "metadata": {},
     "output_type": "execute_result"
    }
   ],
   "source": [
    "#2 Split(train & validation) data\n",
    "from torch.utils.data import Subset\n",
    "from torchvision import datasets, transforms\n",
    "from torch.utils.data import Dataset\n",
    "\n",
    "train_dataset = ImageFolder(data_dir +'/Training')\n",
    "test_dataset = ImageFolder(data_dir +'/Testing')\n",
    "\n",
    "random_seed = 42\n",
    "torch.manual_seed(random_seed);\n",
    "val_size = 571\n",
    "train_size = len(dataset) - val_size\n",
    "\n",
    "train_datas, val_datas = random_split(train_dataset, [train_size, val_size])\n",
    "test_datas = test_dataset\n",
    "len(train_datas), len(val_datas),len(test_datas)"
   ]
  },
  {
   "cell_type": "code",
   "execution_count": 24,
   "id": "1fdce1eb-3368-469b-a016-a4f5ce76a526",
   "metadata": {},
   "outputs": [
    {
     "data": {
      "text/plain": [
       "\"\\nIf data is too small, train with all training dataset and validate with all testing dataset\\n\\ntrain_ds = ImageFolder(data_dir+'/Training', train_tfms)\\nvalid_ds = ImageFolder(data_dir+'/Testing', valid_tfms)\\n\""
      ]
     },
     "execution_count": 24,
     "metadata": {},
     "output_type": "execute_result"
    }
   ],
   "source": [
    "'''\n",
    "If data is too small, train with all training dataset and validate with all testing dataset\n",
    "\n",
    "train_ds = ImageFolder(data_dir+'/Training', train_tfms)\n",
    "valid_ds = ImageFolder(data_dir+'/Testing', valid_tfms)\n",
    "'''"
   ]
  },
  {
   "cell_type": "code",
   "execution_count": 26,
   "id": "9dcdb2b4-020e-4197-b1b5-21d6e64b530f",
   "metadata": {},
   "outputs": [],
   "source": [
    "#3 Transform(normalization & augmentation) data\n",
    "stats = ((0.1856, 0.1856, 0.1856), (0.1744, 0.1744, 0.1744))\n",
    "train_tfms = tt.Compose([tt.Resize((32,32)),\n",
    "                         tt.RandomCrop(32, padding=4, padding_mode='reflect'), \n",
    "                         tt.RandomHorizontalFlip(), \n",
    "                         # tt.RandomRotate\n",
    "                         # tt.RandomResizedCrop(256, scale=(0.5,0.9), ratio=(1, 1)), \n",
    "                         # tt.ColorJitter(brightness=0.1, contrast=0.1, saturation=0.1, hue=0.1),\n",
    "                         tt.ToTensor(), \n",
    "                         tt.Normalize(*stats,inplace=True)])\n",
    "valid_tfms = tt.Compose([tt.Resize((32,32)),\n",
    "                         tt.ToTensor(),\n",
    "                         tt.Normalize(*stats)])\n",
    "test_tfms = tt.Compose([tt.Resize((32,32)),\n",
    "                         tt.ToTensor(),\n",
    "                         tt.Normalize(*stats)])"
   ]
  },
  {
   "cell_type": "code",
   "execution_count": 28,
   "id": "0bd5c882-9afb-4916-b554-75b05f3e92de",
   "metadata": {},
   "outputs": [
    {
     "data": {
      "text/plain": [
       "(5141, 571, 1311)"
      ]
     },
     "execution_count": 28,
     "metadata": {},
     "output_type": "execute_result"
    }
   ],
   "source": [
    "train_ds = ImageFolder(data_dir + '/Training', transform = train_tfms)\n",
    "train_ds = Subset(train_ds, train_datas.indices)\n",
    "\n",
    "val_ds = ImageFolder(data_dir + '/Training', transform = valid_tfms)\n",
    "val_ds = Subset(val_ds, val_datas.indices)\n",
    "\n",
    "test_ds = ImageFolder(data_dir +'/Testing', test_tfms)\n",
    "\n",
    "len(train_ds), len(val_ds), len(test_ds)"
   ]
  },
  {
   "cell_type": "code",
   "execution_count": 30,
   "id": "a06852ac-7472-4f45-8635-9354c5ab9b35",
   "metadata": {},
   "outputs": [],
   "source": [
    "#4 DataLoader (train & validation)\n",
    "batch_size = 16\n",
    "\n",
    "train_dl = DataLoader(train_ds, batch_size, shuffle=True, num_workers=3, pin_memory=True)\n",
    "valid_dl = DataLoader(val_ds, batch_size*2, num_workers=3, pin_memory=True)\n",
    "# test_dl = DataLoader(test_ds, batch_size*2, num_workers=3, pin_memory=True)"
   ]
  },
  {
   "cell_type": "code",
   "execution_count": 32,
   "id": "8d70fbf6-c78c-45e4-82d8-26372a344b75",
   "metadata": {},
   "outputs": [
    {
     "data": {
      "text/plain": [
       "device(type='cuda')"
      ]
     },
     "execution_count": 32,
     "metadata": {},
     "output_type": "execute_result"
    }
   ],
   "source": [
    "#5 Create device selection function\n",
    "def get_default_device():\n",
    "    \"\"\"Pick GPU if available, else CPU\"\"\"\n",
    "    if torch.cuda.is_available():\n",
    "        return torch.device('cuda')\n",
    "    else:\n",
    "        return torch.device('cpu')\n",
    "    \n",
    "def to_device(data, device):\n",
    "    \"\"\"Move tensor(s) to chosen device\"\"\"\n",
    "    if isinstance(data, (list,tuple)):\n",
    "        return [to_device(x, device) for x in data]\n",
    "    return data.to(device, non_blocking=True)\n",
    "\n",
    "class DeviceDataLoader():\n",
    "    \"\"\"Wrap a dataloader to move data to a device\"\"\"\n",
    "    def __init__(self, dl, device):\n",
    "        self.dl = dl\n",
    "        self.device = device\n",
    "        \n",
    "    def __iter__(self):\n",
    "        \"\"\"Yield a batch of data after moving it to device\"\"\"\n",
    "        for b in self.dl: \n",
    "            yield to_device(b, self.device)\n",
    "\n",
    "    def __len__(self):\n",
    "        \"\"\"Number of batches\"\"\"\n",
    "        return len(self.dl)\n",
    "\n",
    "device = get_default_device()\n",
    "device"
   ]
  },
  {
   "cell_type": "code",
   "execution_count": 34,
   "id": "cebb9b88-132f-4bfe-a689-50c82eae6ec3",
   "metadata": {},
   "outputs": [],
   "source": [
    "#6 Create General function\n",
    "def accuracy(outputs, labels):\n",
    "    _, preds = torch.max(outputs, dim=1)\n",
    "    return torch.tensor(torch.sum(preds == labels).item() / len(preds))\n",
    "\n",
    "class ImageClassificationBase(nn.Module):\n",
    "    def training_step(self, batch):\n",
    "        images, labels = batch \n",
    "        out = self(images)                  # Generate predictions\n",
    "        loss = F.cross_entropy(out, labels) # Calculate loss\n",
    "        return loss\n",
    "    \n",
    "    def validation_step(self, batch):\n",
    "        images, labels = batch \n",
    "        out = self(images)                    # Generate predictions\n",
    "        loss = F.cross_entropy(out, labels)   # Calculate loss\n",
    "        acc = accuracy(out, labels)           # Calculate accuracy\n",
    "        return {'val_loss': loss.detach(), 'val_acc': acc}\n",
    "        \n",
    "    def validation_epoch_end(self, outputs):\n",
    "        batch_losses = [x['val_loss'] for x in outputs]\n",
    "        epoch_loss = torch.stack(batch_losses).mean()   # Combine losses\n",
    "        batch_accs = [x['val_acc'] for x in outputs]\n",
    "        epoch_acc = torch.stack(batch_accs).mean()      # Combine accuracies\n",
    "        return {'val_loss': epoch_loss.item(), 'val_acc': epoch_acc.item()}\n",
    "    \n",
    "    def epoch_end(self, epoch, result):\n",
    "        print(\"Epoch [{}], last_lr: {:.4f}, train_loss: {:.4f}, val_loss: {:.4f}, val_acc: {:.4f}\".format(\n",
    "            epoch, result['lrs'][-1], result['train_loss'], result['val_loss'], result['val_acc']))"
   ]
  },
  {
   "cell_type": "code",
   "execution_count": 36,
   "id": "9bcc43ba-1db6-40ee-8865-9f7191951260",
   "metadata": {},
   "outputs": [
    {
     "data": {
      "text/plain": [
       "ResNet9(\n",
       "  (conv1): Sequential(\n",
       "    (0): Conv2d(3, 64, kernel_size=(3, 3), stride=(1, 1), padding=(1, 1))\n",
       "    (1): BatchNorm2d(64, eps=1e-05, momentum=0.1, affine=True, track_running_stats=True)\n",
       "    (2): ReLU(inplace=True)\n",
       "  )\n",
       "  (conv2): Sequential(\n",
       "    (0): Conv2d(64, 128, kernel_size=(3, 3), stride=(1, 1), padding=(1, 1))\n",
       "    (1): BatchNorm2d(128, eps=1e-05, momentum=0.1, affine=True, track_running_stats=True)\n",
       "    (2): ReLU(inplace=True)\n",
       "    (3): MaxPool2d(kernel_size=2, stride=2, padding=0, dilation=1, ceil_mode=False)\n",
       "  )\n",
       "  (res1): Sequential(\n",
       "    (0): Sequential(\n",
       "      (0): Conv2d(128, 128, kernel_size=(3, 3), stride=(1, 1), padding=(1, 1))\n",
       "      (1): BatchNorm2d(128, eps=1e-05, momentum=0.1, affine=True, track_running_stats=True)\n",
       "      (2): ReLU(inplace=True)\n",
       "    )\n",
       "    (1): Sequential(\n",
       "      (0): Conv2d(128, 128, kernel_size=(3, 3), stride=(1, 1), padding=(1, 1))\n",
       "      (1): BatchNorm2d(128, eps=1e-05, momentum=0.1, affine=True, track_running_stats=True)\n",
       "      (2): ReLU(inplace=True)\n",
       "    )\n",
       "  )\n",
       "  (conv3): Sequential(\n",
       "    (0): Conv2d(128, 256, kernel_size=(3, 3), stride=(1, 1), padding=(1, 1))\n",
       "    (1): BatchNorm2d(256, eps=1e-05, momentum=0.1, affine=True, track_running_stats=True)\n",
       "    (2): ReLU(inplace=True)\n",
       "    (3): MaxPool2d(kernel_size=2, stride=2, padding=0, dilation=1, ceil_mode=False)\n",
       "  )\n",
       "  (conv4): Sequential(\n",
       "    (0): Conv2d(256, 512, kernel_size=(3, 3), stride=(1, 1), padding=(1, 1))\n",
       "    (1): BatchNorm2d(512, eps=1e-05, momentum=0.1, affine=True, track_running_stats=True)\n",
       "    (2): ReLU(inplace=True)\n",
       "    (3): MaxPool2d(kernel_size=2, stride=2, padding=0, dilation=1, ceil_mode=False)\n",
       "  )\n",
       "  (res2): Sequential(\n",
       "    (0): Sequential(\n",
       "      (0): Conv2d(512, 512, kernel_size=(3, 3), stride=(1, 1), padding=(1, 1))\n",
       "      (1): BatchNorm2d(512, eps=1e-05, momentum=0.1, affine=True, track_running_stats=True)\n",
       "      (2): ReLU(inplace=True)\n",
       "    )\n",
       "    (1): Sequential(\n",
       "      (0): Conv2d(512, 512, kernel_size=(3, 3), stride=(1, 1), padding=(1, 1))\n",
       "      (1): BatchNorm2d(512, eps=1e-05, momentum=0.1, affine=True, track_running_stats=True)\n",
       "      (2): ReLU(inplace=True)\n",
       "    )\n",
       "  )\n",
       "  (classifier): Sequential(\n",
       "    (0): MaxPool2d(kernel_size=4, stride=4, padding=0, dilation=1, ceil_mode=False)\n",
       "    (1): Flatten(start_dim=1, end_dim=-1)\n",
       "    (2): Dropout(p=0.2, inplace=False)\n",
       "    (3): Linear(in_features=512, out_features=4, bias=True)\n",
       "  )\n",
       ")"
      ]
     },
     "execution_count": 36,
     "metadata": {},
     "output_type": "execute_result"
    }
   ],
   "source": [
    "#7 Create ResNet9 function\n",
    "def conv_block(in_channels, out_channels, pool=False):\n",
    "    layers = [nn.Conv2d(in_channels, out_channels, kernel_size=3, padding=1), \n",
    "              nn.BatchNorm2d(out_channels), \n",
    "              nn.ReLU(inplace=True)]\n",
    "    if pool: layers.append(nn.MaxPool2d(2))\n",
    "    return nn.Sequential(*layers)\n",
    "\n",
    "class ResNet9(ImageClassificationBase):\n",
    "    def __init__(self, in_channels, num_classes):\n",
    "        super().__init__()\n",
    "        # 3 x 32 x 32\n",
    "        self.conv1 = conv_block(in_channels, 64) # 64 x 32 x 32\n",
    "        self.conv2 = conv_block(64, 128, pool=True) # 128 x 16 x 16\n",
    "        self.res1 = nn.Sequential(conv_block(128, 128), conv_block(128, 128)) # 128 x 16 x 16\n",
    "        \n",
    "        self.conv3 = conv_block(128, 256, pool=True) # 256 x 8 x 8\n",
    "        self.conv4 = conv_block(256, 512, pool=True) # 512 x 4 x 4\n",
    "        self.res2 = nn.Sequential(conv_block(512, 512), conv_block(512, 512)) # 512 x 4 x 4\n",
    "        \n",
    "        self.classifier = nn.Sequential(nn.MaxPool2d(4), # 512 x 1 x 1\n",
    "                                        nn.Flatten(), # 512\n",
    "                                        nn.Dropout(0.2), # 512\n",
    "                                        nn.Linear(512, num_classes)) # 4(output probability)\n",
    "        \n",
    "    def forward(self, xb):\n",
    "        out = self.conv1(xb)\n",
    "        out = self.conv2(out)\n",
    "        out = self.res1(out) + out\n",
    "        out = self.conv3(out)\n",
    "        out = self.conv4(out)\n",
    "        out = self.res2(out) + out\n",
    "        out = self.classifier(out)\n",
    "        return out\n",
    "\n",
    "model = to_device(ResNet9(3, 4), device)\n",
    "model"
   ]
  },
  {
   "cell_type": "code",
   "execution_count": 38,
   "id": "55a6a90b-e412-4948-90b4-4c39a6227cbb",
   "metadata": {},
   "outputs": [],
   "source": [
    "#8 Create Training function\n",
    "@torch.no_grad()\n",
    "def evaluate(model, val_loader):\n",
    "    model.eval()\n",
    "    outputs = [model.validation_step(batch) for batch in val_loader]\n",
    "    return model.validation_epoch_end(outputs)\n",
    "\n",
    "def get_lr(optimizer):\n",
    "    for param_group in optimizer.param_groups:\n",
    "        return param_group['lr']\n",
    "\n",
    "def fit_one_cycle(epochs, max_lr, model, train_loader, val_loader, \n",
    "                  weight_decay=0, grad_clip=None, opt_func=torch.optim.SGD):\n",
    "    torch.cuda.empty_cache()\n",
    "    history = []\n",
    "    \n",
    "    # Set up cutom optimizer with weight decay\n",
    "    optimizer = opt_func(model.parameters(), max_lr, weight_decay=weight_decay)\n",
    "    # Set up one-cycle learning rate scheduler\n",
    "    sched = torch.optim.lr_scheduler.OneCycleLR(optimizer, max_lr, epochs=epochs, \n",
    "                                                steps_per_epoch=len(train_loader))\n",
    "    \n",
    "    for epoch in range(epochs):\n",
    "        # Training Phase \n",
    "        model.train()\n",
    "        train_losses = []\n",
    "        lrs = []\n",
    "        for batch in train_loader:\n",
    "            loss = model.training_step(batch)\n",
    "            train_losses.append(loss)\n",
    "            loss.backward()\n",
    "            \n",
    "            # Gradient clipping\n",
    "            if grad_clip: \n",
    "                nn.utils.clip_grad_value_(model.parameters(), grad_clip)\n",
    "            \n",
    "            optimizer.step()\n",
    "            optimizer.zero_grad()\n",
    "            \n",
    "            # Record & update learning rate\n",
    "            lrs.append(get_lr(optimizer))\n",
    "            sched.step()\n",
    "        \n",
    "        # Validation phase\n",
    "        result = evaluate(model, val_loader)\n",
    "        result['train_loss'] = torch.stack(train_losses).mean().item()\n",
    "        result['lrs'] = lrs\n",
    "        model.epoch_end(epoch, result)\n",
    "        history.append(result)\n",
    "    return history"
   ]
  },
  {
   "cell_type": "code",
   "execution_count": 40,
   "id": "34bc5fc4-7eef-4a46-af48-3a357d0c5b8d",
   "metadata": {},
   "outputs": [],
   "source": [
    "#9 Wrap Loaded Data with prefered device(GPU/CPU)\n",
    "train_dl = DeviceDataLoader(train_dl, device)\n",
    "valid_dl = DeviceDataLoader(valid_dl, device)\n",
    "#test_dl = DeviceDataLoader(test_dl, device)"
   ]
  },
  {
   "cell_type": "code",
   "execution_count": 42,
   "id": "f0a8a53d-ab91-4e34-8f68-429ae103eed8",
   "metadata": {},
   "outputs": [
    {
     "data": {
      "text/plain": [
       "[{'val_loss': 1.3838880062103271, 'val_acc': 0.2890303432941437}]"
      ]
     },
     "execution_count": 42,
     "metadata": {},
     "output_type": "execute_result"
    }
   ],
   "source": [
    "#10 Evaluate loss & accuracy before train model\n",
    "history = [evaluate(model, valid_dl)]\n",
    "history"
   ]
  },
  {
   "cell_type": "code",
   "execution_count": 46,
   "id": "45ac4706-cd65-472f-8d48-93959896ae9f",
   "metadata": {},
   "outputs": [],
   "source": [
    "#11 Train model\n",
    "epochs = 15\n",
    "max_lr = 0.01\n",
    "grad_clip = 0.1\n",
    "weight_decay = 1e-4\n",
    "opt_func = torch.optim.Adam"
   ]
  },
  {
   "cell_type": "code",
   "execution_count": 48,
   "id": "91d12a53-ddc4-42a7-a3bd-7960ac9e006f",
   "metadata": {},
   "outputs": [
    {
     "name": "stdout",
     "output_type": "stream",
     "text": [
      "Epoch [0], last_lr: 0.0015, train_loss: 0.9079, val_loss: 0.5042, val_acc: 0.8346\n",
      "Epoch [1], last_lr: 0.0044, train_loss: 0.8706, val_loss: 0.5831, val_acc: 0.8088\n",
      "Epoch [2], last_lr: 0.0076, train_loss: 0.9468, val_loss: 1.1598, val_acc: 0.5315\n",
      "Epoch [3], last_lr: 0.0097, train_loss: 0.9230, val_loss: 0.4402, val_acc: 0.8540\n",
      "Epoch [4], last_lr: 0.0099, train_loss: 0.7658, val_loss: 1.1520, val_acc: 0.5756\n",
      "Epoch [5], last_lr: 0.0095, train_loss: 0.6076, val_loss: 0.4285, val_acc: 0.8480\n",
      "Epoch [6], last_lr: 0.0087, train_loss: 0.5276, val_loss: 0.3488, val_acc: 0.8691\n",
      "Epoch [7], last_lr: 0.0075, train_loss: 0.4388, val_loss: 0.2337, val_acc: 0.9198\n",
      "Epoch [8], last_lr: 0.0061, train_loss: 0.3730, val_loss: 0.3127, val_acc: 0.8931\n",
      "Epoch [9], last_lr: 0.0046, train_loss: 0.2927, val_loss: 0.1866, val_acc: 0.9320\n",
      "Epoch [10], last_lr: 0.0032, train_loss: 0.2744, val_loss: 0.2908, val_acc: 0.8852\n",
      "Epoch [11], last_lr: 0.0019, train_loss: 0.1952, val_loss: 0.1376, val_acc: 0.9504\n",
      "Epoch [12], last_lr: 0.0009, train_loss: 0.1446, val_loss: 0.1088, val_acc: 0.9591\n",
      "Epoch [13], last_lr: 0.0002, train_loss: 0.0990, val_loss: 0.0790, val_acc: 0.9774\n",
      "Epoch [14], last_lr: 0.0000, train_loss: 0.0812, val_loss: 0.0729, val_acc: 0.9774\n",
      "CPU times: total: 28.3 s\n",
      "Wall time: 4min 6s\n"
     ]
    }
   ],
   "source": [
    "%%time\n",
    "history += fit_one_cycle(epochs, max_lr, model, train_dl, valid_dl, \n",
    "                             grad_clip=grad_clip, \n",
    "                             weight_decay=weight_decay, \n",
    "                             opt_func=opt_func)"
   ]
  },
  {
   "cell_type": "code",
   "execution_count": 50,
   "id": "f2c0c19f-f500-4d45-a34a-cc10a05905d0",
   "metadata": {},
   "outputs": [],
   "source": [
    "#12 Evaluate loss & accuracy after train model\n",
    "def plot_accuracies(history):\n",
    "    accuracies = [x['val_acc'] for x in history]\n",
    "    plt.plot(accuracies, '-x')\n",
    "    plt.xlabel('epoch')\n",
    "    plt.ylabel('accuracy')\n",
    "    plt.title('Accuracy vs. No. of epochs');\n",
    "\n",
    "def plot_losses(history):\n",
    "    train_losses = [x.get('train_loss') for x in history]\n",
    "    val_losses = [x['val_loss'] for x in history]\n",
    "    plt.plot(train_losses, '-bx')\n",
    "    plt.plot(val_losses, '-rx')\n",
    "    plt.xlabel('epoch')\n",
    "    plt.ylabel('loss')\n",
    "    plt.legend(['Training', 'Validation'])\n",
    "    plt.title('Loss vs. No. of epochs');\n",
    "\n",
    "def plot_lrs(history):\n",
    "    lrs = np.concatenate([x.get('lrs', []) for x in history])\n",
    "    plt.plot(lrs)\n",
    "    plt.xlabel('Batch no.')\n",
    "    plt.ylabel('Learning rate')\n",
    "    plt.title('Learning Rate vs. Batch no.');"
   ]
  },
  {
   "cell_type": "code",
   "execution_count": 52,
   "id": "eb1a9885-0cbc-494b-a00e-9d1a35c465a4",
   "metadata": {},
   "outputs": [
    {
     "data": {
      "image/png": "[encoded data removed]",
      "text/plain": [
       "<Figure size 640x480 with 1 Axes>"
      ]
     },
     "metadata": {},
     "output_type": "display_data"
    }
   ],
   "source": [
    "plot_losses(history)"
   ]
  },
  {
   "cell_type": "code",
   "execution_count": 54,
   "id": "9edc71af-aac3-44ee-b073-9b71d603b3c0",
   "metadata": {},
   "outputs": [
    {
     "data": {
      "image/png": "[encoded data removed]",
      "text/plain": [
       "<Figure size 640x480 with 1 Axes>"
      ]
     },
     "metadata": {},
     "output_type": "display_data"
    }
   ],
   "source": [
    "plot_accuracies(history)"
   ]
  },
  {
   "cell_type": "code",
   "execution_count": 56,
   "id": "2f7fe770-d6e3-4ca2-a55f-cb65fdd90dc2",
   "metadata": {},
   "outputs": [
    {
     "data": {
      "image/png": "[encoded data removed]",
      "text/plain": [
       "<Figure size 640x480 with 1 Axes>"
      ]
     },
     "metadata": {},
     "output_type": "display_data"
    }
   ],
   "source": [
    "plot_lrs(history)"
   ]
  },
  {
   "cell_type": "code",
   "execution_count": 58,
   "id": "72a002fb-50bd-4f30-a4cf-b6ad3f9e56b0",
   "metadata": {},
   "outputs": [],
   "source": [
    "#13 Create single input function\n",
    "def predict_image(img, model):\n",
    "    # Convert to a batch of 1\n",
    "    xb = to_device(img.unsqueeze(0), device)\n",
    "    # Get predictions from model\n",
    "    yb = model(xb)\n",
    "    # Pick index with highest probability\n",
    "    _, preds  = torch.max(yb, dim=1)\n",
    "    # Retrieve the class label\n",
    "    return train_dataset.classes[preds[0].item()]"
   ]
  },
  {
   "cell_type": "code",
   "execution_count": 62,
   "id": "555fce38-323a-4f33-a5b0-9e8e7c06bcd6",
   "metadata": {},
   "outputs": [
    {
     "name": "stdout",
     "output_type": "stream",
     "text": [
      "Label: meningioma , Predicted: meningioma\n"
     ]
    },
    {
     "data": {
      "image/png": "[encoded data removed]",
      "text/plain": [
       "<Figure size 640x480 with 1 Axes>"
      ]
     },
     "metadata": {},
     "output_type": "display_data"
    }
   ],
   "source": [
    "img, label = test_ds[300]\n",
    "plt.imshow(img.permute(1, 2, 0).clamp(0, 1))\n",
    "print('Label:', train_dataset.classes[label], ', Predicted:', predict_image(img, model))"
   ]
  },
  {
   "cell_type": "code",
   "execution_count": 64,
   "id": "d1b0baff-a411-4620-85a3-40872fd4f688",
   "metadata": {},
   "outputs": [],
   "source": [
    "#14 Save trained model\n",
    "\n",
    "# .pth\n",
    "# torch.save(model.state_dict(), '03.1_brain_tumor.pth')\n",
    "\n",
    "# .pkl\n",
    "# with open('resnet9.pkl','wb') as file:\n",
    "#    pickle.dump(model,file)"
   ]
  },
  {
   "cell_type": "code",
   "execution_count": null,
   "id": "a1b17f2f-24f2-4d4a-8e4d-1ecd0070ce48",
   "metadata": {},
   "outputs": [],
   "source": []
  }
 ],
 "metadata": {
  "kernelspec": {
   "display_name": "01_VENV",
   "language": "python",
   "name": "01_venv"
  },
  "language_info": {
   "codemirror_mode": {
    "name": "ipython",
    "version": 3
   },
   "file_extension": ".py",
   "mimetype": "text/x-python",
   "name": "python",
   "nbconvert_exporter": "python",
   "pygments_lexer": "ipython3",
   "version": "3.12.7"
  }
 },
 "nbformat": 4,
 "nbformat_minor": 5
}
